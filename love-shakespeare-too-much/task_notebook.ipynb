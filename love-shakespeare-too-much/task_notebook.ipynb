{
 "cells": [
  {
   "cell_type": "code",
   "execution_count": 1,
   "metadata": {},
   "outputs": [],
   "source": [
    "import load_model\n",
    "import flag"
   ]
  },
  {
   "cell_type": "code",
   "execution_count": 2,
   "metadata": {
    "scrolled": true
   },
   "outputs": [
    {
     "name": "stdout",
     "output_type": "stream",
     "text": [
      "aictfoy.vuy.muaqq.mvgqq.syah.vuy.muaqq.mvgqq.syah.vuy.muaqq.mvgqq.syah.vuy.muaqq.mvgqq.syah.vuy.muaq\n",
      "AICTF{y.vuy.mu4qq.mvgqq.5y4h.vuy.mu4qq.mvgqq.5y4h.vuy.mu4qq.mvgqq.5y4h.vuy.mu4qq.mvgqq.5y4h.vuy.mu4q}\n",
      "aictfoy.vuy.muaqq.mvgqq.syah.vuy.muaqq.mvgqq.syah.vuy.muaqq.mvgqq.syah.vuy.muaqq.mvgqq.syah.vuy.muaq\n",
      "AICTF{y.vuy.mu4qq.mvgqq.5y4h.vuy.mu4qq.mvgqq.5y4h.vuy.mu4qq.mvgqq.5y4h.vuy.mu4qq.mvgqq.5y4h.vuy.mu4q}\n",
      "aictfoy.vuy.muaqq.mvgqq.syah.vuy.muaqq.mvgqq.syah.vuy.muaqq.mvgqq.syah.vuy.muaqq.mvgqq.syah.vuy.muaq\n",
      "AICTF{y.vuy.mu4qq.mvgqq.5y4h.vuy.mu4qq.mvgqq.5y4h.vuy.mu4qq.mvgqq.5y4h.vuy.mu4qq.mvgqq.5y4h.vuy.mu4q}\n",
      "aictfoy.vuy.muaqq.mvgqq.syah.vuy.muaqq.mvgqq.syah.vuy.muaqq.mvgqq.syah.vuy.muaqq.mvgqq.syah.vuy.muaq\n",
      "AICTF{y.vuy.mu4qq.mvgqq.5y4h.vuy.mu4qq.mvgqq.5y4h.vuy.mu4qq.mvgqq.5y4h.vuy.mu4qq.mvgqq.5y4h.vuy.mu4q}\n",
      "aictfoy.vuy.muaqq.mvgqq.syah.vuy.muaqq.mvgqq.syah.vuy.muaqq.mvgqq.syah.vuy.muaqq.mvgqq.syah.vuy.muaq\n",
      "AICTF{y.vuy.mu4qq.mvgqq.5y4h.vuy.mu4qq.mvgqq.5y4h.vuy.mu4qq.mvgqq.5y4h.vuy.mu4qq.mvgqq.5y4h.vuy.mu4q}\n",
      "aictfoy.vuy.muaqq.mvgqq.syah.vuy.muaqq.mvgqq.syah.vuy.muaqq.mvgqq.syah.vuy.muaqq.mvgqq.syah.vuy.muaq\n",
      "AICTF{y.vuy.mu4qq.mvgqq.5y4h.vuy.mu4qq.mvgqq.5y4h.vuy.mu4qq.mvgqq.5y4h.vuy.mu4qq.mvgqq.5y4h.vuy.mu4q}\n",
      "aictfoy.vuy.muaqq.mvgqq.syah.vuy.muaqq.mvgqq.syah.vuy.muaqq.mvgqq.syah.vuy.muaqq.mvgqq.syah.vuy.muaq\n",
      "AICTF{y.vuy.mu4qq.mvgqq.5y4h.vuy.mu4qq.mvgqq.5y4h.vuy.mu4qq.mvgqq.5y4h.vuy.mu4qq.mvgqq.5y4h.vuy.mu4q}\n",
      "aictfoy.vuy.muaqq.mvgqq.syah.vuy.muaqq.mvgqq.syah.vuy.muaqq.mvgqq.syah.vuy.muaqq.mvgqq.syah.vuy.muaq\n",
      "AICTF{y.vuy.mu4qq.mvgqq.5y4h.vuy.mu4qq.mvgqq.5y4h.vuy.mu4qq.mvgqq.5y4h.vuy.mu4qq.mvgqq.5y4h.vuy.mu4q}\n",
      "aictfoy.vuy.muaqq.mvgqq.syah.vuy.muaqq.mvgqq.syah.vuy.muaqq.mvgqq.syah.vuy.muaqq.mvgqq.syah.vuy.muaq\n",
      "AICTF{y.vuy.mu4qq.mvgqq.5y4h.vuy.mu4qq.mvgqq.5y4h.vuy.mu4qq.mvgqq.5y4h.vuy.mu4qq.mvgqq.5y4h.vuy.mu4q}\n",
      "aictfoy.vuy.muaqq.mvgqq.syah.vuy.muaqq.mvgqq.syah.vuy.muaqq.mvgqq.syah.vuy.muaqq.mvgqq.syah.vuy.muaq\n",
      "AICTF{y.vuy.mu4qq.mvgqq.5y4h.vuy.mu4qq.mvgqq.5y4h.vuy.mu4qq.mvgqq.5y4h.vuy.mu4qq.mvgqq.5y4h.vuy.mu4q}\n",
      "CharLSTMCell(\n",
      "  (embedding): Embedding(35, 128, padding_idx=31)\n",
      "  (rnn_update): LSTMCell(128, 128)\n",
      "  (rnn_to_logits): Linear(in_features=128, out_features=35, bias=True)\n",
      ")\n"
     ]
    }
   ],
   "source": [
    "model = load_model.char_lstm\n",
    "for i in range(10):\n",
    "    s = load_model.get_raw()\n",
    "\n",
    "    print(s)\n",
    "    print(flag.get_real_flag(s))\n",
    "print(model)"
   ]
  },
  {
   "cell_type": "code",
   "execution_count": null,
   "metadata": {},
   "outputs": [],
   "source": []
  },
  {
   "cell_type": "code",
   "execution_count": 3,
   "metadata": {},
   "outputs": [
    {
     "data": {
      "text/plain": [
       "'AICTF{w0S0nrSfn}'"
      ]
     },
     "execution_count": 3,
     "metadata": {},
     "output_type": "execute_result"
    }
   ],
   "source": [
    "flag.get_real_flag('aictfrwoSonrSfn')"
   ]
  },
  {
   "cell_type": "code",
   "execution_count": 4,
   "metadata": {},
   "outputs": [
    {
     "data": {
      "text/plain": [
       "'FLAG {l4g_fl4g}'"
      ]
     },
     "execution_count": 4,
     "metadata": {},
     "output_type": "execute_result"
    }
   ],
   "source": [
    "flag.get_real_flag('flag flag flag')"
   ]
  },
  {
   "cell_type": "code",
   "execution_count": 5,
   "metadata": {},
   "outputs": [],
   "source": [
    "import json"
   ]
  },
  {
   "cell_type": "code",
   "execution_count": 6,
   "metadata": {},
   "outputs": [
    {
     "ename": "JSONDecodeError",
     "evalue": "Expecting property name enclosed in double quotes: line 1 column 2 (char 1)",
     "output_type": "error",
     "traceback": [
      "\u001b[1;31m---------------------------------------------------------------------------\u001b[0m",
      "\u001b[1;31mJSONDecodeError\u001b[0m                           Traceback (most recent call last)",
      "Input \u001b[1;32mIn [6]\u001b[0m, in \u001b[0;36m<cell line: 1>\u001b[1;34m()\u001b[0m\n\u001b[1;32m----> 1\u001b[0m \u001b[43mjson\u001b[49m\u001b[38;5;241;43m.\u001b[39;49m\u001b[43mloads\u001b[49m\u001b[43m(\u001b[49m\u001b[38;5;124;43m'\u001b[39;49m\u001b[38;5;124;43m{\u001b[39;49m\u001b[38;5;124;43m1:\u001b[39;49m\u001b[38;5;124;43m\"\u001b[39;49m\u001b[38;5;124;43m1\u001b[39;49m\u001b[38;5;124;43m\"\u001b[39;49m\u001b[38;5;124;43m}\u001b[39;49m\u001b[38;5;124;43m'\u001b[39;49m\u001b[43m)\u001b[49m\n",
      "File \u001b[1;32m~\\AppData\\Local\\Programs\\Python\\Python39\\lib\\json\\__init__.py:346\u001b[0m, in \u001b[0;36mloads\u001b[1;34m(s, cls, object_hook, parse_float, parse_int, parse_constant, object_pairs_hook, **kw)\u001b[0m\n\u001b[0;32m    341\u001b[0m     s \u001b[38;5;241m=\u001b[39m s\u001b[38;5;241m.\u001b[39mdecode(detect_encoding(s), \u001b[38;5;124m'\u001b[39m\u001b[38;5;124msurrogatepass\u001b[39m\u001b[38;5;124m'\u001b[39m)\n\u001b[0;32m    343\u001b[0m \u001b[38;5;28;01mif\u001b[39;00m (\u001b[38;5;28mcls\u001b[39m \u001b[38;5;129;01mis\u001b[39;00m \u001b[38;5;28;01mNone\u001b[39;00m \u001b[38;5;129;01mand\u001b[39;00m object_hook \u001b[38;5;129;01mis\u001b[39;00m \u001b[38;5;28;01mNone\u001b[39;00m \u001b[38;5;129;01mand\u001b[39;00m\n\u001b[0;32m    344\u001b[0m         parse_int \u001b[38;5;129;01mis\u001b[39;00m \u001b[38;5;28;01mNone\u001b[39;00m \u001b[38;5;129;01mand\u001b[39;00m parse_float \u001b[38;5;129;01mis\u001b[39;00m \u001b[38;5;28;01mNone\u001b[39;00m \u001b[38;5;129;01mand\u001b[39;00m\n\u001b[0;32m    345\u001b[0m         parse_constant \u001b[38;5;129;01mis\u001b[39;00m \u001b[38;5;28;01mNone\u001b[39;00m \u001b[38;5;129;01mand\u001b[39;00m object_pairs_hook \u001b[38;5;129;01mis\u001b[39;00m \u001b[38;5;28;01mNone\u001b[39;00m \u001b[38;5;129;01mand\u001b[39;00m \u001b[38;5;129;01mnot\u001b[39;00m kw):\n\u001b[1;32m--> 346\u001b[0m     \u001b[38;5;28;01mreturn\u001b[39;00m \u001b[43m_default_decoder\u001b[49m\u001b[38;5;241;43m.\u001b[39;49m\u001b[43mdecode\u001b[49m\u001b[43m(\u001b[49m\u001b[43ms\u001b[49m\u001b[43m)\u001b[49m\n\u001b[0;32m    347\u001b[0m \u001b[38;5;28;01mif\u001b[39;00m \u001b[38;5;28mcls\u001b[39m \u001b[38;5;129;01mis\u001b[39;00m \u001b[38;5;28;01mNone\u001b[39;00m:\n\u001b[0;32m    348\u001b[0m     \u001b[38;5;28mcls\u001b[39m \u001b[38;5;241m=\u001b[39m JSONDecoder\n",
      "File \u001b[1;32m~\\AppData\\Local\\Programs\\Python\\Python39\\lib\\json\\decoder.py:337\u001b[0m, in \u001b[0;36mJSONDecoder.decode\u001b[1;34m(self, s, _w)\u001b[0m\n\u001b[0;32m    332\u001b[0m \u001b[38;5;28;01mdef\u001b[39;00m \u001b[38;5;21mdecode\u001b[39m(\u001b[38;5;28mself\u001b[39m, s, _w\u001b[38;5;241m=\u001b[39mWHITESPACE\u001b[38;5;241m.\u001b[39mmatch):\n\u001b[0;32m    333\u001b[0m     \u001b[38;5;124;03m\"\"\"Return the Python representation of ``s`` (a ``str`` instance\u001b[39;00m\n\u001b[0;32m    334\u001b[0m \u001b[38;5;124;03m    containing a JSON document).\u001b[39;00m\n\u001b[0;32m    335\u001b[0m \n\u001b[0;32m    336\u001b[0m \u001b[38;5;124;03m    \"\"\"\u001b[39;00m\n\u001b[1;32m--> 337\u001b[0m     obj, end \u001b[38;5;241m=\u001b[39m \u001b[38;5;28;43mself\u001b[39;49m\u001b[38;5;241;43m.\u001b[39;49m\u001b[43mraw_decode\u001b[49m\u001b[43m(\u001b[49m\u001b[43ms\u001b[49m\u001b[43m,\u001b[49m\u001b[43m \u001b[49m\u001b[43midx\u001b[49m\u001b[38;5;241;43m=\u001b[39;49m\u001b[43m_w\u001b[49m\u001b[43m(\u001b[49m\u001b[43ms\u001b[49m\u001b[43m,\u001b[49m\u001b[43m \u001b[49m\u001b[38;5;241;43m0\u001b[39;49m\u001b[43m)\u001b[49m\u001b[38;5;241;43m.\u001b[39;49m\u001b[43mend\u001b[49m\u001b[43m(\u001b[49m\u001b[43m)\u001b[49m\u001b[43m)\u001b[49m\n\u001b[0;32m    338\u001b[0m     end \u001b[38;5;241m=\u001b[39m _w(s, end)\u001b[38;5;241m.\u001b[39mend()\n\u001b[0;32m    339\u001b[0m     \u001b[38;5;28;01mif\u001b[39;00m end \u001b[38;5;241m!=\u001b[39m \u001b[38;5;28mlen\u001b[39m(s):\n",
      "File \u001b[1;32m~\\AppData\\Local\\Programs\\Python\\Python39\\lib\\json\\decoder.py:353\u001b[0m, in \u001b[0;36mJSONDecoder.raw_decode\u001b[1;34m(self, s, idx)\u001b[0m\n\u001b[0;32m    344\u001b[0m \u001b[38;5;124;03m\"\"\"Decode a JSON document from ``s`` (a ``str`` beginning with\u001b[39;00m\n\u001b[0;32m    345\u001b[0m \u001b[38;5;124;03ma JSON document) and return a 2-tuple of the Python\u001b[39;00m\n\u001b[0;32m    346\u001b[0m \u001b[38;5;124;03mrepresentation and the index in ``s`` where the document ended.\u001b[39;00m\n\u001b[1;32m   (...)\u001b[0m\n\u001b[0;32m    350\u001b[0m \n\u001b[0;32m    351\u001b[0m \u001b[38;5;124;03m\"\"\"\u001b[39;00m\n\u001b[0;32m    352\u001b[0m \u001b[38;5;28;01mtry\u001b[39;00m:\n\u001b[1;32m--> 353\u001b[0m     obj, end \u001b[38;5;241m=\u001b[39m \u001b[38;5;28;43mself\u001b[39;49m\u001b[38;5;241;43m.\u001b[39;49m\u001b[43mscan_once\u001b[49m\u001b[43m(\u001b[49m\u001b[43ms\u001b[49m\u001b[43m,\u001b[49m\u001b[43m \u001b[49m\u001b[43midx\u001b[49m\u001b[43m)\u001b[49m\n\u001b[0;32m    354\u001b[0m \u001b[38;5;28;01mexcept\u001b[39;00m \u001b[38;5;167;01mStopIteration\u001b[39;00m \u001b[38;5;28;01mas\u001b[39;00m err:\n\u001b[0;32m    355\u001b[0m     \u001b[38;5;28;01mraise\u001b[39;00m JSONDecodeError(\u001b[38;5;124m\"\u001b[39m\u001b[38;5;124mExpecting value\u001b[39m\u001b[38;5;124m\"\u001b[39m, s, err\u001b[38;5;241m.\u001b[39mvalue) \u001b[38;5;28;01mfrom\u001b[39;00m \u001b[38;5;28mNone\u001b[39m\n",
      "\u001b[1;31mJSONDecodeError\u001b[0m: Expecting property name enclosed in double quotes: line 1 column 2 (char 1)"
     ]
    }
   ],
   "source": [
    "json.loads('{1:\"1\"}')"
   ]
  },
  {
   "cell_type": "code",
   "execution_count": null,
   "metadata": {},
   "outputs": [],
   "source": []
  }
 ],
 "metadata": {
  "kernelspec": {
   "display_name": "Python 3 (ipykernel)",
   "language": "python",
   "name": "python3"
  },
  "language_info": {
   "codemirror_mode": {
    "name": "ipython",
    "version": 3
   },
   "file_extension": ".py",
   "mimetype": "text/x-python",
   "name": "python",
   "nbconvert_exporter": "python",
   "pygments_lexer": "ipython3",
   "version": "3.9.7"
  }
 },
 "nbformat": 4,
 "nbformat_minor": 4
}
